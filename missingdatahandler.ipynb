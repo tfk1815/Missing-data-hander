{
 "cells": [
  {
   "cell_type": "markdown",
   "id": "5fafdc60-2f2f-4997-b3fa-13197f3557af",
   "metadata": {},
   "source": [
    "### Script for handling missing data "
   ]
  },
  {
   "cell_type": "code",
   "execution_count": 24,
   "id": "31a02cce-f0f4-4ddc-92f8-87704bea72f7",
   "metadata": {},
   "outputs": [],
   "source": [
    "def analyze_missing_value(data):\n",
    "    number_of_rows = df.shape[0]\n",
    "\n",
    "    output_data =pd.DataFrame({\n",
    "        \"Datatypes\":data.dtypes,\n",
    "        \"Total_Missing_data\": data.isnull().sum(),\n",
    "        \"%Missing_data_to_original_data\": round((data.isnull().sum() / number_of_rows) * 100,2),\n",
    "    })\n",
    "    output_data = output_data[output_data[\"%Missing_data_to_original_data\"] > 0]\n",
    "    output_data = output_data.sort_values(\"%Missing_data_to_original_data\",ascending=False)\n",
    "    return output_data.style.background_gradient(subset=[\"Total_Missing_data\",\"%Missing_data_to_original_data\"],cmap=\"Reds\")"
   ]
  },
  {
   "cell_type": "markdown",
   "id": "fb709df1-6245-4991-a89b-36555d1d83e2",
   "metadata": {},
   "source": [
    "### Testing\n",
    "\n",
    "- This checks through all the data and returns the number of missing data and also gives the percentage relative to the number of rows.\n",
    "- This ensure easy rows and columns to drop or fill with appropriate values."
   ]
  },
  {
   "cell_type": "code",
   "execution_count": 25,
   "id": "0b5ffb10-8fa9-43f7-b878-d4288491fe55",
   "metadata": {},
   "outputs": [],
   "source": [
    "import pandas as pd\n",
    "\n",
    "df = pd.read_csv(\"C:/Users/Taofeek Ogungbemi/Downloads/googleplaystore_user_reviews.csv\")"
   ]
  },
  {
   "cell_type": "code",
   "execution_count": 26,
   "id": "db1b32fe-9a4d-4bcb-87b8-7f4f9e442709",
   "metadata": {},
   "outputs": [
    {
     "data": {
      "text/html": [
       "<style type=\"text/css\">\n",
       "#T_82e61_row0_col1, #T_82e61_row0_col2 {\n",
       "  background-color: #67000d;\n",
       "  color: #f1f1f1;\n",
       "}\n",
       "#T_82e61_row1_col1, #T_82e61_row1_col2, #T_82e61_row2_col1, #T_82e61_row2_col2, #T_82e61_row3_col1, #T_82e61_row3_col2 {\n",
       "  background-color: #fff5f0;\n",
       "  color: #000000;\n",
       "}\n",
       "</style>\n",
       "<table id=\"T_82e61\">\n",
       "  <thead>\n",
       "    <tr>\n",
       "      <th class=\"blank level0\" >&nbsp;</th>\n",
       "      <th id=\"T_82e61_level0_col0\" class=\"col_heading level0 col0\" >Datatypes</th>\n",
       "      <th id=\"T_82e61_level0_col1\" class=\"col_heading level0 col1\" >Total_Missing_data</th>\n",
       "      <th id=\"T_82e61_level0_col2\" class=\"col_heading level0 col2\" >%Missing_data_to_original_data</th>\n",
       "    </tr>\n",
       "  </thead>\n",
       "  <tbody>\n",
       "    <tr>\n",
       "      <th id=\"T_82e61_level0_row0\" class=\"row_heading level0 row0\" >Translated_Review</th>\n",
       "      <td id=\"T_82e61_row0_col0\" class=\"data row0 col0\" >object</td>\n",
       "      <td id=\"T_82e61_row0_col1\" class=\"data row0 col1\" >26868</td>\n",
       "      <td id=\"T_82e61_row0_col2\" class=\"data row0 col2\" >41.790000</td>\n",
       "    </tr>\n",
       "    <tr>\n",
       "      <th id=\"T_82e61_level0_row1\" class=\"row_heading level0 row1\" >Sentiment</th>\n",
       "      <td id=\"T_82e61_row1_col0\" class=\"data row1 col0\" >object</td>\n",
       "      <td id=\"T_82e61_row1_col1\" class=\"data row1 col1\" >26863</td>\n",
       "      <td id=\"T_82e61_row1_col2\" class=\"data row1 col2\" >41.780000</td>\n",
       "    </tr>\n",
       "    <tr>\n",
       "      <th id=\"T_82e61_level0_row2\" class=\"row_heading level0 row2\" >Sentiment_Polarity</th>\n",
       "      <td id=\"T_82e61_row2_col0\" class=\"data row2 col0\" >float64</td>\n",
       "      <td id=\"T_82e61_row2_col1\" class=\"data row2 col1\" >26863</td>\n",
       "      <td id=\"T_82e61_row2_col2\" class=\"data row2 col2\" >41.780000</td>\n",
       "    </tr>\n",
       "    <tr>\n",
       "      <th id=\"T_82e61_level0_row3\" class=\"row_heading level0 row3\" >Sentiment_Subjectivity</th>\n",
       "      <td id=\"T_82e61_row3_col0\" class=\"data row3 col0\" >float64</td>\n",
       "      <td id=\"T_82e61_row3_col1\" class=\"data row3 col1\" >26863</td>\n",
       "      <td id=\"T_82e61_row3_col2\" class=\"data row3 col2\" >41.780000</td>\n",
       "    </tr>\n",
       "  </tbody>\n",
       "</table>\n"
      ],
      "text/plain": [
       "<pandas.io.formats.style.Styler at 0x277b7001b50>"
      ]
     },
     "execution_count": 26,
     "metadata": {},
     "output_type": "execute_result"
    }
   ],
   "source": [
    "analyze_missing_value(df)"
   ]
  },
  {
   "cell_type": "code",
   "execution_count": null,
   "id": "8eaf6c60-b764-47d5-b9e3-e8219e1bc371",
   "metadata": {},
   "outputs": [],
   "source": []
  }
 ],
 "metadata": {
  "kernelspec": {
   "display_name": "Python 3 (ipykernel)",
   "language": "python",
   "name": "python3"
  },
  "language_info": {
   "codemirror_mode": {
    "name": "ipython",
    "version": 3
   },
   "file_extension": ".py",
   "mimetype": "text/x-python",
   "name": "python",
   "nbconvert_exporter": "python",
   "pygments_lexer": "ipython3",
   "version": "3.11.7"
  }
 },
 "nbformat": 4,
 "nbformat_minor": 5
}
